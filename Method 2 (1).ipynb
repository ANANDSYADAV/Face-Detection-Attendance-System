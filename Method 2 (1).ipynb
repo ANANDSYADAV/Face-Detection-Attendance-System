{
 "cells": [
  {
   "cell_type": "markdown",
   "id": "3f5a64a2-680a-4882-b03d-9556e6e3072e",
   "metadata": {},
   "source": [
    "- Installing Dependencies"
   ]
  },
  {
   "cell_type": "code",
   "execution_count": 14,
   "id": "a975a439-e0d9-4852-8f2f-e2b04bd73ac5",
   "metadata": {},
   "outputs": [
    {
     "name": "stdout",
     "output_type": "stream",
     "text": [
      "Requirement already satisfied: cmake in c:\\users\\anand\\miniconda3\\lib\\site-packages (3.30.5)\n",
      "Requirement already satisfied: dlib in c:\\users\\anand\\miniconda3\\lib\\site-packages (19.24.2)\n",
      "Requirement already satisfied: opencv-python in c:\\users\\anand\\miniconda3\\lib\\site-packages (4.10.0.84)\n",
      "Requirement already satisfied: numpy in c:\\users\\anand\\miniconda3\\lib\\site-packages (1.26.4)\n",
      "Requirement already satisfied: face-recognition in c:\\users\\anand\\miniconda3\\lib\\site-packages (1.3.0)\n",
      "Requirement already satisfied: matplotlib in c:\\users\\anand\\miniconda3\\lib\\site-packages (3.9.2)\n",
      "Requirement already satisfied: pillow in c:\\users\\anand\\miniconda3\\lib\\site-packages (10.2.0)\n",
      "Requirement already satisfied: face-recognition-models>=0.3.0 in c:\\users\\anand\\miniconda3\\lib\\site-packages (from face-recognition) (0.3.0)\n",
      "Requirement already satisfied: Click>=6.0 in c:\\users\\anand\\miniconda3\\lib\\site-packages (from face-recognition) (8.1.7)\n",
      "Requirement already satisfied: contourpy>=1.0.1 in c:\\users\\anand\\miniconda3\\lib\\site-packages (from matplotlib) (1.3.0)\n",
      "Requirement already satisfied: cycler>=0.10 in c:\\users\\anand\\miniconda3\\lib\\site-packages (from matplotlib) (0.12.1)\n",
      "Requirement already satisfied: fonttools>=4.22.0 in c:\\users\\anand\\miniconda3\\lib\\site-packages (from matplotlib) (4.54.1)\n",
      "Requirement already satisfied: kiwisolver>=1.3.1 in c:\\users\\anand\\miniconda3\\lib\\site-packages (from matplotlib) (1.4.7)\n",
      "Requirement already satisfied: packaging>=20.0 in c:\\users\\anand\\miniconda3\\lib\\site-packages (from matplotlib) (24.1)\n",
      "Requirement already satisfied: pyparsing>=2.3.1 in c:\\users\\anand\\miniconda3\\lib\\site-packages (from matplotlib) (3.2.0)\n",
      "Requirement already satisfied: python-dateutil>=2.7 in c:\\users\\anand\\miniconda3\\lib\\site-packages (from matplotlib) (2.9.0.post0)\n",
      "Requirement already satisfied: colorama in c:\\users\\anand\\miniconda3\\lib\\site-packages (from Click>=6.0->face-recognition) (0.4.6)\n",
      "Requirement already satisfied: six>=1.5 in c:\\users\\anand\\miniconda3\\lib\\site-packages (from python-dateutil>=2.7->matplotlib) (1.16.0)\n",
      "Note: you may need to restart the kernel to use updated packages.\n"
     ]
    }
   ],
   "source": [
    "pip install cmake dlib opencv-python numpy face-recognition matplotlib pillow"
   ]
  },
  {
   "cell_type": "markdown",
   "id": "6d7b6eaa-da7d-46a4-8a45-ab27b70b4de9",
   "metadata": {},
   "source": [
    "- Installing training and testing dependencies"
   ]
  },
  {
   "cell_type": "code",
   "execution_count": 15,
   "id": "88653843-9417-48da-a9db-c86cf8f9f409",
   "metadata": {},
   "outputs": [],
   "source": [
    "from sklearn.model_selection import StratifiedKFold\n",
    "import numpy as np\n",
    "import cv2  # For image processing\n",
    "import os  # For handling file paths\n",
    "import tensorflow as tf  # For model training"
   ]
  },
  {
   "cell_type": "markdown",
   "id": "5ae54469-e661-41f3-80c5-ba2a7eeb08d8",
   "metadata": {},
   "source": [
    "- Image Labelling "
   ]
  },
  {
   "cell_type": "code",
   "execution_count": 16,
   "id": "a9f8b323-1b8b-4692-a5fb-81c25cb5c9f0",
   "metadata": {},
   "outputs": [
    {
     "name": "stdout",
     "output_type": "stream",
     "text": [
      "Image files: ['C:/Users/anand/Desktop/18Nov2024/Faces/dataset\\\\Anand\\\\Anand1.jpeg', 'C:/Users/anand/Desktop/18Nov2024/Faces/dataset\\\\Anand\\\\Anand1.jpg', 'C:/Users/anand/Desktop/18Nov2024/Faces/dataset\\\\Anand\\\\Anand10.jpg', 'C:/Users/anand/Desktop/18Nov2024/Faces/dataset\\\\Anand\\\\Anand11.jpg', 'C:/Users/anand/Desktop/18Nov2024/Faces/dataset\\\\Anand\\\\Anand2.jpg', 'C:/Users/anand/Desktop/18Nov2024/Faces/dataset\\\\Anand\\\\Anand3.jpg', 'C:/Users/anand/Desktop/18Nov2024/Faces/dataset\\\\Anand\\\\Anand4.jpg', 'C:/Users/anand/Desktop/18Nov2024/Faces/dataset\\\\Anand\\\\Anand4.png', 'C:/Users/anand/Desktop/18Nov2024/Faces/dataset\\\\Anand\\\\Anand5.jpg', 'C:/Users/anand/Desktop/18Nov2024/Faces/dataset\\\\Anand\\\\Anand6.jpg', 'C:/Users/anand/Desktop/18Nov2024/Faces/dataset\\\\Anand\\\\Anand7.jpg', 'C:/Users/anand/Desktop/18Nov2024/Faces/dataset\\\\Anand\\\\Anand8.jpg', 'C:/Users/anand/Desktop/18Nov2024/Faces/dataset\\\\Anand\\\\Anand9.jpg', 'C:/Users/anand/Desktop/18Nov2024/Faces/dataset\\\\Bhavyasri\\\\1730133938782_yfp2ux_2_0.jpg', 'C:/Users/anand/Desktop/18Nov2024/Faces/dataset\\\\Bhavyasri\\\\IMG-20230218-WA0020.jpg', 'C:/Users/anand/Desktop/18Nov2024/Faces/dataset\\\\Bhavyasri\\\\IMG-20241029-WA0002.jpg', 'C:/Users/anand/Desktop/18Nov2024/Faces/dataset\\\\Bhavyasri\\\\IMG_20240203_152009.jpg', 'C:/Users/anand/Desktop/18Nov2024/Faces/dataset\\\\Bhavyasri\\\\IMG_20240727_182913.jpg', 'C:/Users/anand/Desktop/18Nov2024/Faces/dataset\\\\Bhavyasri\\\\IMG_20241028_212627.jpg', 'C:/Users/anand/Desktop/18Nov2024/Faces/dataset\\\\Bhavyasri\\\\IMG_20241028_212832.jpg', 'C:/Users/anand/Desktop/18Nov2024/Faces/dataset\\\\Bhavyasri\\\\IMG_20241028_213013.jpg', 'C:/Users/anand/Desktop/18Nov2024/Faces/dataset\\\\Bhavyasri\\\\IMG_20241028_220946.jpg', 'C:/Users/anand/Desktop/18Nov2024/Faces/dataset\\\\Bhavyasri\\\\IMG_20241028_221201.jpg', 'C:/Users/anand/Desktop/18Nov2024/Faces/dataset\\\\Bhavyasri\\\\IMG_20241028_223925.jpg', 'C:/Users/anand/Desktop/18Nov2024/Faces/dataset\\\\Bhavyasri\\\\IMG_20241029_013600.jpg', 'C:/Users/anand/Desktop/18Nov2024/Faces/dataset\\\\Bhavyasri\\\\IMG_20241029_021807.jpg', 'C:/Users/anand/Desktop/18Nov2024/Faces/dataset\\\\Bhavyasri\\\\Polish_20241029_013429050.jpg', 'C:/Users/anand/Desktop/18Nov2024/Faces/dataset\\\\Bhavyasri\\\\Snapchat-793809341.jpg', 'C:/Users/anand/Desktop/18Nov2024/Faces/dataset\\\\Gaurav\\\\IMG-20241029-WA0003.jpg', 'C:/Users/anand/Desktop/18Nov2024/Faces/dataset\\\\Gaurav\\\\IMG-20241029-WA0005.jpg', 'C:/Users/anand/Desktop/18Nov2024/Faces/dataset\\\\Gaurav\\\\IMG-20241029-WA0006.jpg', 'C:/Users/anand/Desktop/18Nov2024/Faces/dataset\\\\Gaurav\\\\IMG-20241029-WA0007.jpg', 'C:/Users/anand/Desktop/18Nov2024/Faces/dataset\\\\Gaurav\\\\IMG-20241029-WA0009.jpg', 'C:/Users/anand/Desktop/18Nov2024/Faces/dataset\\\\Gaurav\\\\IMG-20241029-WA0010.jpg', 'C:/Users/anand/Desktop/18Nov2024/Faces/dataset\\\\Gaurav\\\\IMG-20241029-WA0011.jpg', 'C:/Users/anand/Desktop/18Nov2024/Faces/dataset\\\\Gaurav\\\\IMG-20241029-WA0012.jpg', 'C:/Users/anand/Desktop/18Nov2024/Faces/dataset\\\\Gaurav\\\\IMG-20241029-WA0013.jpg', 'C:/Users/anand/Desktop/18Nov2024/Faces/dataset\\\\Gaurav\\\\IMG-20241029-WA0014.jpg', 'C:/Users/anand/Desktop/18Nov2024/Faces/dataset\\\\Gaurav\\\\IMG-20241029-WA0015.jpg', 'C:/Users/anand/Desktop/18Nov2024/Faces/dataset\\\\Gaurav\\\\IMG-20241029-WA0016.jpg', 'C:/Users/anand/Desktop/18Nov2024/Faces/dataset\\\\Gaurav\\\\IMG-20241029-WA0017.jpg', 'C:/Users/anand/Desktop/18Nov2024/Faces/dataset\\\\Gaurav\\\\IMG-20241029-WA0018.jpg', 'C:/Users/anand/Desktop/18Nov2024/Faces/dataset\\\\Gaurav\\\\IMG-20241029-WA0019.jpg', 'C:/Users/anand/Desktop/18Nov2024/Faces/dataset\\\\Gaurav\\\\IMG-20241029-WA0020.jpg', 'C:/Users/anand/Desktop/18Nov2024/Faces/dataset\\\\Harsh\\\\IMG-20241018-WA0011.jpg', 'C:/Users/anand/Desktop/18Nov2024/Faces/dataset\\\\Harsh\\\\IMG-20241029-WA0049.jpg', 'C:/Users/anand/Desktop/18Nov2024/Faces/dataset\\\\Harsh\\\\IMG-20241029-WA0050.jpg', 'C:/Users/anand/Desktop/18Nov2024/Faces/dataset\\\\Harsh\\\\IMG-20241029-WA0051.jpg', 'C:/Users/anand/Desktop/18Nov2024/Faces/dataset\\\\Harsh\\\\IMG-20241029-WA0052.jpg', 'C:/Users/anand/Desktop/18Nov2024/Faces/dataset\\\\Harsh\\\\IMG-20241029-WA0053.jpg', 'C:/Users/anand/Desktop/18Nov2024/Faces/dataset\\\\Harsh\\\\WhatsApp Image 2024-10-18 at 11.05.46_d9047b2b.jpg', 'C:/Users/anand/Desktop/18Nov2024/Faces/dataset\\\\Harsh\\\\WhatsApp Image 2024-10-18 at 11.05.47_6c39ecba.jpg', 'C:/Users/anand/Desktop/18Nov2024/Faces/dataset\\\\Heriv\\\\IMG-20241029-WA0021.jpg', 'C:/Users/anand/Desktop/18Nov2024/Faces/dataset\\\\Heriv\\\\IMG-20241029-WA0022.jpg', 'C:/Users/anand/Desktop/18Nov2024/Faces/dataset\\\\Heriv\\\\IMG-20241029-WA0023.jpg', 'C:/Users/anand/Desktop/18Nov2024/Faces/dataset\\\\Heriv\\\\IMG-20241029-WA0024.jpg', 'C:/Users/anand/Desktop/18Nov2024/Faces/dataset\\\\Heriv\\\\IMG-20241029-WA0025.jpg', 'C:/Users/anand/Desktop/18Nov2024/Faces/dataset\\\\Heriv\\\\IMG-20241029-WA0026.jpg', 'C:/Users/anand/Desktop/18Nov2024/Faces/dataset\\\\Heriv\\\\IMG-20241029-WA0027.jpg', 'C:/Users/anand/Desktop/18Nov2024/Faces/dataset\\\\Heriv\\\\IMG-20241029-WA0028.jpg', 'C:/Users/anand/Desktop/18Nov2024/Faces/dataset\\\\Heriv\\\\IMG-20241029-WA0029.jpg', 'C:/Users/anand/Desktop/18Nov2024/Faces/dataset\\\\Heriv\\\\WhatsApp Image 2024-10-29 at 09.15.19_47fa227f.jpg', 'C:/Users/anand/Desktop/18Nov2024/Faces/dataset\\\\Karan\\\\IMG-20241018-WA0019.jpg', 'C:/Users/anand/Desktop/18Nov2024/Faces/dataset\\\\Karan\\\\IMG-20241018-WA0021.jpg', 'C:/Users/anand/Desktop/18Nov2024/Faces/dataset\\\\Karan\\\\IMG-20241018-WA0022.jpg', 'C:/Users/anand/Desktop/18Nov2024/Faces/dataset\\\\Karan\\\\IMG-20241018-WA0023.jpg', 'C:/Users/anand/Desktop/18Nov2024/Faces/dataset\\\\Karan\\\\IMG-20241018-WA0024.jpg', 'C:/Users/anand/Desktop/18Nov2024/Faces/dataset\\\\Karan\\\\karan.jpeg.jpg', 'C:/Users/anand/Desktop/18Nov2024/Faces/dataset\\\\Karan\\\\WhatsApp Image 2024-10-18 at 11.20.57_f8a09022.jpg', 'C:/Users/anand/Desktop/18Nov2024/Faces/dataset\\\\Mythili\\\\IMG-20240318-WA0043.jpg', 'C:/Users/anand/Desktop/18Nov2024/Faces/dataset\\\\Mythili\\\\IMG-20240409-WA0068.jpg', 'C:/Users/anand/Desktop/18Nov2024/Faces/dataset\\\\Mythili\\\\IMG-20240415-WA0042.jpg', 'C:/Users/anand/Desktop/18Nov2024/Faces/dataset\\\\Mythili\\\\IMG-20241029-WA0031.jpg', 'C:/Users/anand/Desktop/18Nov2024/Faces/dataset\\\\Mythili\\\\IMG-20241029-WA0032.jpg', 'C:/Users/anand/Desktop/18Nov2024/Faces/dataset\\\\Mythili\\\\IMG-20241029-WA0033.jpg', 'C:/Users/anand/Desktop/18Nov2024/Faces/dataset\\\\Mythili\\\\IMG-20241029-WA0034.jpg']\n",
      "Class names: ['Anand', 'Anand', 'Anand', 'Anand', 'Anand', 'Anand', 'Anand', 'Anand', 'Anand', 'Anand', 'Anand', 'Anand', 'Anand', 'Bhavyasri', 'Bhavyasri', 'Bhavyasri', 'Bhavyasri', 'Bhavyasri', 'Bhavyasri', 'Bhavyasri', 'Bhavyasri', 'Bhavyasri', 'Bhavyasri', 'Bhavyasri', 'Bhavyasri', 'Bhavyasri', 'Bhavyasri', 'Bhavyasri', 'Gaurav', 'Gaurav', 'Gaurav', 'Gaurav', 'Gaurav', 'Gaurav', 'Gaurav', 'Gaurav', 'Gaurav', 'Gaurav', 'Gaurav', 'Gaurav', 'Gaurav', 'Gaurav', 'Gaurav', 'Gaurav', 'Harsh', 'Harsh', 'Harsh', 'Harsh', 'Harsh', 'Harsh', 'Harsh', 'Harsh', 'Heriv', 'Heriv', 'Heriv', 'Heriv', 'Heriv', 'Heriv', 'Heriv', 'Heriv', 'Heriv', 'Heriv', 'Karan', 'Karan', 'Karan', 'Karan', 'Karan', 'Karan', 'Karan', 'Mythili', 'Mythili', 'Mythili', 'Mythili', 'Mythili', 'Mythili', 'Mythili']\n"
     ]
    }
   ],
   "source": [
    "# Path to the directory with images for encoding\n",
    "path = 'C:/Users/anand/Desktop/18Nov2024/Faces/dataset'\n",
    "images = []\n",
    "classNames = []\n",
    "# List all items in the specified path and store images and class names\n",
    "def makeClasses():\n",
    "    for cls in os.listdir(path):\n",
    "        cls_path = os.path.join(path, cls)\n",
    "        if os.path.isdir(cls_path):\n",
    "            for img in os.listdir(cls_path):\n",
    "                if not img.endswith('.DS_Store'):\n",
    "                    images.append(os.path.join(cls_path, img))\n",
    "                    classNames.append(cls)\n",
    "    return classNames\n",
    "\n",
    "classNames = makeClasses()\n",
    "\n",
    "print(\"Image files:\", images)\n",
    "print(\"Class names:\", classNames)"
   ]
  },
  {
   "cell_type": "markdown",
   "id": "24382279-8646-413f-a4d3-b64cfce6982d",
   "metadata": {},
   "source": [
    "- Stratified k-fold Splitting code"
   ]
  },
  {
   "cell_type": "code",
   "execution_count": 17,
   "id": "95cfbee9-1588-4d37-bf7e-53af73b4a814",
   "metadata": {},
   "outputs": [],
   "source": [
    "skf = StratifiedKFold(n_splits=7, shuffle=True, random_state=42)\n",
    "\n",
    "# Convert image paths and labels to numpy arrays for easier handling\n",
    "image_paths = np.array(images)\n",
    "labels = np.array(classNames)\n",
    "\n",
    "folds = list(skf.split(images, classNames))"
   ]
  },
  {
   "cell_type": "markdown",
   "id": "e5ad8a5a-474b-4431-bd97-3296a4405aa9",
   "metadata": {},
   "source": [
    "- Model Creation using keras"
   ]
  },
  {
   "cell_type": "code",
   "execution_count": 18,
   "id": "823927bf-5aef-4dd9-9128-d08b10a1cc75",
   "metadata": {},
   "outputs": [],
   "source": [
    "from keras.models import Sequential\n",
    "from keras.layers import Conv2D, MaxPooling2D, Flatten, Dense\n",
    "\n",
    "def create_model():\n",
    "    model = Sequential([\n",
    "        # Input layer\n",
    "        Conv2D(32, (3, 3), activation='relu', input_shape=(224, 224, 3)),\n",
    "        MaxPooling2D((2, 2)),\n",
    "\n",
    "        # Add more convolutional and pooling layers as needed\n",
    "        Conv2D(64, (3, 3), activation='relu'),\n",
    "        MaxPooling2D((2, 2)),\n",
    "\n",
    "        Conv2D(128, (3, 3), activation='relu'),\n",
    "        MaxPooling2D((2, 2)),\n",
    "\n",
    "        # Flatten the output\n",
    "        Flatten(),\n",
    "\n",
    "        # Dense layers\n",
    "        Dense(128, activation='relu'),\n",
    "        Dense(len(class_mapping), activation='softmax')  # Output layer\n",
    "    ])\n",
    "    model.compile(optimizer='adam', loss='sparse_categorical_crossentropy', metrics=['accuracy'])\n",
    "    return model"
   ]
  },
  {
   "cell_type": "markdown",
   "id": "9772c1d1-a9b1-44f3-ac1a-e530f0ff1406",
   "metadata": {},
   "source": [
    "- Implementing face-crop and resizing functions"
   ]
  },
  {
   "cell_type": "code",
   "execution_count": 19,
   "id": "5cea53c8-ae9d-4949-b674-3cf7bc3c5a18",
   "metadata": {},
   "outputs": [],
   "source": [
    "import cv2\n",
    "import numpy as np\n",
    "from PIL import Image\n",
    "\n",
    "def detect_and_crop_faces(input_image):\n",
    "    # Load OpenCV's Haar Cascade for face detection\n",
    "    face_cascade = cv2.CascadeClassifier(cv2.data.haarcascades + 'haarcascade_frontalface_default.xml')\n",
    "    \n",
    "    # Convert the image to grayscale for face detection\n",
    "    gray = cv2.cvtColor(input_image, cv2.COLOR_BGR2GRAY)\n",
    "    \n",
    "    # Detect faces in the image\n",
    "    faces = face_cascade.detectMultiScale(gray, scaleFactor=1.3, minNeighbors=5)\n",
    "    \n",
    "    # If no faces detected, return the original image\n",
    "    # if len(faces) == 0:\n",
    "    #     print(\"No faces detected; returning original image.\")\n",
    "    #     return input_image\n",
    "\n",
    "    # Crop the first detected face\n",
    "    for (x, y, w, h) in faces:\n",
    "        cropped_img = input_image[y:y+h, x:x+w]\n",
    "        return cropped_img\n",
    "\n",
    "    return input_image  # Fallback if faces detection fails\n",
    "\n",
    "def resize_images(input_image):\n",
    "    size = (224, 224)\n",
    "    # Resize the image using OpenCV\n",
    "    resized_img = cv2.resize(input_image, size)\n",
    "    return resized_img"
   ]
  },
  {
   "cell_type": "markdown",
   "id": "66eab541-938f-4501-b12f-d4e3e7d53567",
   "metadata": {},
   "source": [
    "- Training and Evaluating the model"
   ]
  },
  {
   "cell_type": "code",
   "execution_count": 20,
   "id": "fa59aa7b-a794-4f46-a1b7-0b0357ae80de",
   "metadata": {},
   "outputs": [
    {
     "name": "stdout",
     "output_type": "stream",
     "text": [
      "Training Fold 1/7\n"
     ]
    },
    {
     "name": "stderr",
     "output_type": "stream",
     "text": [
      "C:\\Users\\anand\\miniconda3\\Lib\\site-packages\\keras\\src\\layers\\convolutional\\base_conv.py:107: UserWarning: Do not pass an `input_shape`/`input_dim` argument to a layer. When using Sequential models, prefer using an `Input(shape)` object as the first layer in the model instead.\n",
      "  super().__init__(activity_regularizer=activity_regularizer, **kwargs)\n"
     ]
    },
    {
     "name": "stdout",
     "output_type": "stream",
     "text": [
      "Epoch 1/10\n",
      "\u001b[1m3/3\u001b[0m \u001b[32m━━━━━━━━━━━━━━━━━━━━\u001b[0m\u001b[37m\u001b[0m \u001b[1m14s\u001b[0m 3s/step - accuracy: 0.1084 - loss: 3.8680 - val_accuracy: 0.1818 - val_loss: 2.0161\n",
      "Epoch 2/10\n",
      "\u001b[1m3/3\u001b[0m \u001b[32m━━━━━━━━━━━━━━━━━━━━\u001b[0m\u001b[37m\u001b[0m \u001b[1m14s\u001b[0m 4s/step - accuracy: 0.2287 - loss: 1.9179 - val_accuracy: 0.0909 - val_loss: 1.9403\n",
      "Epoch 3/10\n",
      "\u001b[1m3/3\u001b[0m \u001b[32m━━━━━━━━━━━━━━━━━━━━\u001b[0m\u001b[37m\u001b[0m \u001b[1m9s\u001b[0m 2s/step - accuracy: 0.1203 - loss: 1.9271 - val_accuracy: 0.3636 - val_loss: 1.9130\n",
      "Epoch 4/10\n",
      "\u001b[1m3/3\u001b[0m \u001b[32m━━━━━━━━━━━━━━━━━━━━\u001b[0m\u001b[37m\u001b[0m \u001b[1m10s\u001b[0m 3s/step - accuracy: 0.2946 - loss: 1.9027 - val_accuracy: 0.0909 - val_loss: 1.9611\n",
      "Epoch 5/10\n",
      "\u001b[1m3/3\u001b[0m \u001b[32m━━━━━━━━━━━━━━━━━━━━\u001b[0m\u001b[37m\u001b[0m \u001b[1m11s\u001b[0m 3s/step - accuracy: 0.1008 - loss: 1.9679 - val_accuracy: 0.1818 - val_loss: 1.8515\n",
      "Epoch 6/10\n",
      "\u001b[1m3/3\u001b[0m \u001b[32m━━━━━━━━━━━━━━━━━━━━\u001b[0m\u001b[37m\u001b[0m \u001b[1m11s\u001b[0m 3s/step - accuracy: 0.3063 - loss: 1.7692 - val_accuracy: 0.0909 - val_loss: 1.9330\n",
      "Epoch 7/10\n",
      "\u001b[1m3/3\u001b[0m \u001b[32m━━━━━━━━━━━━━━━━━━━━\u001b[0m\u001b[37m\u001b[0m \u001b[1m10s\u001b[0m 3s/step - accuracy: 0.1319 - loss: 1.8418 - val_accuracy: 0.0909 - val_loss: 1.8707\n",
      "Epoch 8/10\n",
      "\u001b[1m3/3\u001b[0m \u001b[32m━━━━━━━━━━━━━━━━━━━━\u001b[0m\u001b[37m\u001b[0m \u001b[1m10s\u001b[0m 3s/step - accuracy: 0.2791 - loss: 1.6591 - val_accuracy: 0.1818 - val_loss: 1.7361\n",
      "Epoch 9/10\n",
      "\u001b[1m3/3\u001b[0m \u001b[32m━━━━━━━━━━━━━━━━━━━━\u001b[0m\u001b[37m\u001b[0m \u001b[1m13s\u001b[0m 3s/step - accuracy: 0.4920 - loss: 1.5555 - val_accuracy: 0.3636 - val_loss: 1.7504\n",
      "Epoch 10/10\n",
      "\u001b[1m3/3\u001b[0m \u001b[32m━━━━━━━━━━━━━━━━━━━━\u001b[0m\u001b[37m\u001b[0m \u001b[1m19s\u001b[0m 3s/step - accuracy: 0.5270 - loss: 1.3806 - val_accuracy: 0.4545 - val_loss: 1.5265\n",
      "\u001b[1m1/1\u001b[0m \u001b[32m━━━━━━━━━━━━━━━━━━━━\u001b[0m\u001b[37m\u001b[0m \u001b[1m0s\u001b[0m 418ms/step - accuracy: 0.4545 - loss: 1.5265\n",
      "Fold 1 - Loss: 1.5264664888381958, Accuracy: 0.4545454680919647\n",
      "Training Fold 2/7\n",
      "Epoch 1/10\n",
      "\u001b[1m3/3\u001b[0m \u001b[32m━━━━━━━━━━━━━━━━━━━━\u001b[0m\u001b[37m\u001b[0m \u001b[1m16s\u001b[0m 3s/step - accuracy: 0.2055 - loss: 2.2253 - val_accuracy: 0.1818 - val_loss: 2.1398\n",
      "Epoch 2/10\n",
      "\u001b[1m3/3\u001b[0m \u001b[32m━━━━━━━━━━━━━━━━━━━━\u001b[0m\u001b[37m\u001b[0m \u001b[1m21s\u001b[0m 3s/step - accuracy: 0.1898 - loss: 1.9845 - val_accuracy: 0.1818 - val_loss: 1.9125\n",
      "Epoch 3/10\n",
      "\u001b[1m3/3\u001b[0m \u001b[32m━━━━━━━━━━━━━━━━━━━━\u001b[0m\u001b[37m\u001b[0m \u001b[1m19s\u001b[0m 3s/step - accuracy: 0.2364 - loss: 1.8657 - val_accuracy: 0.2727 - val_loss: 1.8468\n",
      "Epoch 4/10\n",
      "\u001b[1m3/3\u001b[0m \u001b[32m━━━━━━━━━━━━━━━━━━━━\u001b[0m\u001b[37m\u001b[0m \u001b[1m11s\u001b[0m 3s/step - accuracy: 0.1977 - loss: 1.8530 - val_accuracy: 0.2727 - val_loss: 1.8863\n",
      "Epoch 5/10\n",
      "\u001b[1m3/3\u001b[0m \u001b[32m━━━━━━━━━━━━━━━━━━━━\u001b[0m\u001b[37m\u001b[0m \u001b[1m19s\u001b[0m 3s/step - accuracy: 0.3413 - loss: 1.7382 - val_accuracy: 0.1818 - val_loss: 1.9038\n",
      "Epoch 6/10\n",
      "\u001b[1m3/3\u001b[0m \u001b[32m━━━━━━━━━━━━━━━━━━━━\u001b[0m\u001b[37m\u001b[0m \u001b[1m10s\u001b[0m 2s/step - accuracy: 0.3371 - loss: 1.6417 - val_accuracy: 0.4545 - val_loss: 1.7840\n",
      "Epoch 7/10\n",
      "\u001b[1m3/3\u001b[0m \u001b[32m━━━━━━━━━━━━━━━━━━━━\u001b[0m\u001b[37m\u001b[0m \u001b[1m7s\u001b[0m 2s/step - accuracy: 0.6280 - loss: 1.4333 - val_accuracy: 0.3636 - val_loss: 1.7833\n",
      "Epoch 8/10\n",
      "\u001b[1m3/3\u001b[0m \u001b[32m━━━━━━━━━━━━━━━━━━━━\u001b[0m\u001b[37m\u001b[0m \u001b[1m14s\u001b[0m 3s/step - accuracy: 0.5235 - loss: 1.3455 - val_accuracy: 0.3636 - val_loss: 2.1050\n",
      "Epoch 9/10\n",
      "\u001b[1m3/3\u001b[0m \u001b[32m━━━━━━━━━━━━━━━━━━━━\u001b[0m\u001b[37m\u001b[0m \u001b[1m6s\u001b[0m 2s/step - accuracy: 0.4186 - loss: 1.4452 - val_accuracy: 0.3636 - val_loss: 1.9011\n",
      "Epoch 10/10\n",
      "\u001b[1m3/3\u001b[0m \u001b[32m━━━━━━━━━━━━━━━━━━━━\u001b[0m\u001b[37m\u001b[0m \u001b[1m6s\u001b[0m 2s/step - accuracy: 0.5930 - loss: 1.1074 - val_accuracy: 0.5455 - val_loss: 1.5153\n",
      "\u001b[1m1/1\u001b[0m \u001b[32m━━━━━━━━━━━━━━━━━━━━\u001b[0m\u001b[37m\u001b[0m \u001b[1m0s\u001b[0m 365ms/step - accuracy: 0.5455 - loss: 1.5153\n",
      "Fold 2 - Loss: 1.5153144598007202, Accuracy: 0.5454545617103577\n",
      "Training Fold 3/7\n",
      "Epoch 1/10\n",
      "\u001b[1m3/3\u001b[0m \u001b[32m━━━━━━━━━━━━━━━━━━━━\u001b[0m\u001b[37m\u001b[0m \u001b[1m10s\u001b[0m 2s/step - accuracy: 0.1434 - loss: 3.5365 - val_accuracy: 0.1818 - val_loss: 2.4677\n",
      "Epoch 2/10\n",
      "\u001b[1m3/3\u001b[0m \u001b[32m━━━━━━━━━━━━━━━━━━━━\u001b[0m\u001b[37m\u001b[0m \u001b[1m6s\u001b[0m 2s/step - accuracy: 0.1898 - loss: 2.3743 - val_accuracy: 0.0909 - val_loss: 2.0062\n",
      "Epoch 3/10\n",
      "\u001b[1m3/3\u001b[0m \u001b[32m━━━━━━━━━━━━━━━━━━━━\u001b[0m\u001b[37m\u001b[0m \u001b[1m6s\u001b[0m 2s/step - accuracy: 0.1087 - loss: 2.0488 - val_accuracy: 0.1818 - val_loss: 2.0153\n",
      "Epoch 4/10\n",
      "\u001b[1m3/3\u001b[0m \u001b[32m━━━━━━━━━━━━━━━━━━━━\u001b[0m\u001b[37m\u001b[0m \u001b[1m6s\u001b[0m 2s/step - accuracy: 0.2014 - loss: 1.9303 - val_accuracy: 0.1818 - val_loss: 1.9055\n",
      "Epoch 5/10\n",
      "\u001b[1m3/3\u001b[0m \u001b[32m━━━━━━━━━━━━━━━━━━━━\u001b[0m\u001b[37m\u001b[0m \u001b[1m6s\u001b[0m 2s/step - accuracy: 0.2093 - loss: 1.8528 - val_accuracy: 0.1818 - val_loss: 1.9051\n",
      "Epoch 6/10\n",
      "\u001b[1m3/3\u001b[0m \u001b[32m━━━━━━━━━━━━━━━━━━━━\u001b[0m\u001b[37m\u001b[0m \u001b[1m10s\u001b[0m 1s/step - accuracy: 0.2017 - loss: 1.8676 - val_accuracy: 0.1818 - val_loss: 1.9303\n",
      "Epoch 7/10\n",
      "\u001b[1m3/3\u001b[0m \u001b[32m━━━━━━━━━━━━━━━━━━━━\u001b[0m\u001b[37m\u001b[0m \u001b[1m6s\u001b[0m 2s/step - accuracy: 0.1510 - loss: 1.8975 - val_accuracy: 0.2727 - val_loss: 1.9158\n",
      "Epoch 8/10\n",
      "\u001b[1m3/3\u001b[0m \u001b[32m━━━━━━━━━━━━━━━━━━━━\u001b[0m\u001b[37m\u001b[0m \u001b[1m6s\u001b[0m 2s/step - accuracy: 0.3140 - loss: 1.8255 - val_accuracy: 0.3636 - val_loss: 1.8837\n",
      "Epoch 9/10\n",
      "\u001b[1m3/3\u001b[0m \u001b[32m━━━━━━━━━━━━━━━━━━━━\u001b[0m\u001b[37m\u001b[0m \u001b[1m5s\u001b[0m 1s/step - accuracy: 0.2986 - loss: 1.7338 - val_accuracy: 0.1818 - val_loss: 2.1414\n",
      "Epoch 10/10\n",
      "\u001b[1m3/3\u001b[0m \u001b[32m━━━━━━━━━━━━━━━━━━━━\u001b[0m\u001b[37m\u001b[0m \u001b[1m6s\u001b[0m 2s/step - accuracy: 0.2365 - loss: 1.8126 - val_accuracy: 0.3636 - val_loss: 1.6935\n",
      "\u001b[1m1/1\u001b[0m \u001b[32m━━━━━━━━━━━━━━━━━━━━\u001b[0m\u001b[37m\u001b[0m \u001b[1m0s\u001b[0m 271ms/step - accuracy: 0.3636 - loss: 1.6935\n",
      "Fold 3 - Loss: 1.693503975868225, Accuracy: 0.3636363744735718\n",
      "Training Fold 4/7\n",
      "Epoch 1/10\n",
      "\u001b[1m3/3\u001b[0m \u001b[32m━━━━━━━━━━━━━━━━━━━━\u001b[0m\u001b[37m\u001b[0m \u001b[1m21s\u001b[0m 2s/step - accuracy: 0.1162 - loss: 4.9156 - val_accuracy: 0.1818 - val_loss: 2.5315\n",
      "Epoch 2/10\n",
      "\u001b[1m3/3\u001b[0m \u001b[32m━━━━━━━━━━━━━━━━━━━━\u001b[0m\u001b[37m\u001b[0m \u001b[1m15s\u001b[0m 2s/step - accuracy: 0.1784 - loss: 2.3052 - val_accuracy: 0.1818 - val_loss: 1.9449\n",
      "Epoch 3/10\n",
      "\u001b[1m3/3\u001b[0m \u001b[32m━━━━━━━━━━━━━━━━━━━━\u001b[0m\u001b[37m\u001b[0m \u001b[1m13s\u001b[0m 2s/step - accuracy: 0.2327 - loss: 1.9596 - val_accuracy: 0.1818 - val_loss: 1.9161\n",
      "Epoch 4/10\n",
      "\u001b[1m3/3\u001b[0m \u001b[32m━━━━━━━━━━━━━━━━━━━━\u001b[0m\u001b[37m\u001b[0m \u001b[1m6s\u001b[0m 1s/step - accuracy: 0.1898 - loss: 1.9295 - val_accuracy: 0.1818 - val_loss: 1.9486\n",
      "Epoch 5/10\n",
      "\u001b[1m3/3\u001b[0m \u001b[32m━━━━━━━━━━━━━━━━━━━━\u001b[0m\u001b[37m\u001b[0m \u001b[1m5s\u001b[0m 1s/step - accuracy: 0.1395 - loss: 1.9105 - val_accuracy: 0.1818 - val_loss: 2.1187\n",
      "Epoch 6/10\n",
      "\u001b[1m3/3\u001b[0m \u001b[32m━━━━━━━━━━━━━━━━━━━━\u001b[0m\u001b[37m\u001b[0m \u001b[1m5s\u001b[0m 1s/step - accuracy: 0.1666 - loss: 2.0767 - val_accuracy: 0.2727 - val_loss: 1.8808\n",
      "Epoch 7/10\n",
      "\u001b[1m3/3\u001b[0m \u001b[32m━━━━━━━━━━━━━━━━━━━━\u001b[0m\u001b[37m\u001b[0m \u001b[1m6s\u001b[0m 2s/step - accuracy: 0.3334 - loss: 1.7913 - val_accuracy: 0.1818 - val_loss: 2.0462\n",
      "Epoch 8/10\n",
      "\u001b[1m3/3\u001b[0m \u001b[32m━━━━━━━━━━━━━━━━━━━━\u001b[0m\u001b[37m\u001b[0m \u001b[1m6s\u001b[0m 2s/step - accuracy: 0.2055 - loss: 1.8901 - val_accuracy: 0.3636 - val_loss: 1.9717\n",
      "Epoch 9/10\n",
      "\u001b[1m3/3\u001b[0m \u001b[32m━━━━━━━━━━━━━━━━━━━━\u001b[0m\u001b[37m\u001b[0m \u001b[1m13s\u001b[0m 2s/step - accuracy: 0.3025 - loss: 1.7502 - val_accuracy: 0.3636 - val_loss: 1.8149\n",
      "Epoch 10/10\n",
      "\u001b[1m3/3\u001b[0m \u001b[32m━━━━━━━━━━━━━━━━━━━━\u001b[0m\u001b[37m\u001b[0m \u001b[1m8s\u001b[0m 1s/step - accuracy: 0.3840 - loss: 1.6715 - val_accuracy: 0.0909 - val_loss: 1.8785\n",
      "\u001b[1m1/1\u001b[0m \u001b[32m━━━━━━━━━━━━━━━━━━━━\u001b[0m\u001b[37m\u001b[0m \u001b[1m0s\u001b[0m 390ms/step - accuracy: 0.0909 - loss: 1.8785\n",
      "Fold 4 - Loss: 1.8784980773925781, Accuracy: 0.09090909361839294\n",
      "Training Fold 5/7\n",
      "Epoch 1/10\n",
      "\u001b[1m3/3\u001b[0m \u001b[32m━━━━━━━━━━━━━━━━━━━━\u001b[0m\u001b[37m\u001b[0m \u001b[1m9s\u001b[0m 2s/step - accuracy: 0.1281 - loss: 3.8952 - val_accuracy: 0.1818 - val_loss: 2.9411\n",
      "Epoch 2/10\n",
      "\u001b[1m3/3\u001b[0m \u001b[32m━━━━━━━━━━━━━━━━━━━━\u001b[0m\u001b[37m\u001b[0m \u001b[1m5s\u001b[0m 1s/step - accuracy: 0.1629 - loss: 2.4446 - val_accuracy: 0.2727 - val_loss: 1.9544\n",
      "Epoch 3/10\n",
      "\u001b[1m3/3\u001b[0m \u001b[32m━━━━━━━━━━━━━━━━━━━━\u001b[0m\u001b[37m\u001b[0m \u001b[1m5s\u001b[0m 1s/step - accuracy: 0.3413 - loss: 1.9026 - val_accuracy: 0.2727 - val_loss: 1.9231\n",
      "Epoch 4/10\n",
      "\u001b[1m3/3\u001b[0m \u001b[32m━━━━━━━━━━━━━━━━━━━━\u001b[0m\u001b[37m\u001b[0m \u001b[1m5s\u001b[0m 1s/step - accuracy: 0.2675 - loss: 1.8414 - val_accuracy: 0.2727 - val_loss: 1.9167\n",
      "Epoch 5/10\n",
      "\u001b[1m3/3\u001b[0m \u001b[32m━━━━━━━━━━━━━━━━━━━━\u001b[0m\u001b[37m\u001b[0m \u001b[1m5s\u001b[0m 1s/step - accuracy: 0.4809 - loss: 1.8418 - val_accuracy: 0.1818 - val_loss: 2.0106\n",
      "Epoch 6/10\n",
      "\u001b[1m3/3\u001b[0m \u001b[32m━━━━━━━━━━━━━━━━━━━━\u001b[0m\u001b[37m\u001b[0m \u001b[1m5s\u001b[0m 1s/step - accuracy: 0.2249 - loss: 1.8303 - val_accuracy: 0.1818 - val_loss: 1.8635\n",
      "Epoch 7/10\n",
      "\u001b[1m3/3\u001b[0m \u001b[32m━━━━━━━━━━━━━━━━━━━━\u001b[0m\u001b[37m\u001b[0m \u001b[1m5s\u001b[0m 1s/step - accuracy: 0.2906 - loss: 1.6605 - val_accuracy: 0.3636 - val_loss: 1.8327\n",
      "Epoch 8/10\n",
      "\u001b[1m3/3\u001b[0m \u001b[32m━━━━━━━━━━━━━━━━━━━━\u001b[0m\u001b[37m\u001b[0m \u001b[1m5s\u001b[0m 1s/step - accuracy: 0.3451 - loss: 1.6295 - val_accuracy: 0.6364 - val_loss: 1.7526\n",
      "Epoch 9/10\n",
      "\u001b[1m3/3\u001b[0m \u001b[32m━━━━━━━━━━━━━━━━━━━━\u001b[0m\u001b[37m\u001b[0m \u001b[1m5s\u001b[0m 1s/step - accuracy: 0.5585 - loss: 1.4518 - val_accuracy: 0.4545 - val_loss: 1.7738\n",
      "Epoch 10/10\n",
      "\u001b[1m3/3\u001b[0m \u001b[32m━━━━━━━━━━━━━━━━━━━━\u001b[0m\u001b[37m\u001b[0m \u001b[1m5s\u001b[0m 1s/step - accuracy: 0.4922 - loss: 1.3730 - val_accuracy: 0.2727 - val_loss: 2.2703\n",
      "\u001b[1m1/1\u001b[0m \u001b[32m━━━━━━━━━━━━━━━━━━━━\u001b[0m\u001b[37m\u001b[0m \u001b[1m0s\u001b[0m 258ms/step - accuracy: 0.2727 - loss: 2.2703\n",
      "Fold 5 - Loss: 2.2702748775482178, Accuracy: 0.27272728085517883\n",
      "Training Fold 6/7\n",
      "Epoch 1/10\n",
      "\u001b[1m3/3\u001b[0m \u001b[32m━━━━━━━━━━━━━━━━━━━━\u001b[0m\u001b[37m\u001b[0m \u001b[1m9s\u001b[0m 2s/step - accuracy: 0.1087 - loss: 3.7859 - val_accuracy: 0.1818 - val_loss: 2.2942\n",
      "Epoch 2/10\n",
      "\u001b[1m3/3\u001b[0m \u001b[32m━━━━━━━━━━━━━━━━━━━━\u001b[0m\u001b[37m\u001b[0m \u001b[1m5s\u001b[0m 1s/step - accuracy: 0.2209 - loss: 2.1282 - val_accuracy: 0.1818 - val_loss: 1.9411\n",
      "Epoch 3/10\n",
      "\u001b[1m3/3\u001b[0m \u001b[32m━━━━━━━━━━━━━━━━━━━━\u001b[0m\u001b[37m\u001b[0m \u001b[1m5s\u001b[0m 1s/step - accuracy: 0.1319 - loss: 1.9809 - val_accuracy: 0.1818 - val_loss: 1.9355\n",
      "Epoch 4/10\n",
      "\u001b[1m3/3\u001b[0m \u001b[32m━━━━━━━━━━━━━━━━━━━━\u001b[0m\u001b[37m\u001b[0m \u001b[1m5s\u001b[0m 1s/step - accuracy: 0.1666 - loss: 1.9227 - val_accuracy: 0.1818 - val_loss: 2.0189\n",
      "Epoch 5/10\n",
      "\u001b[1m3/3\u001b[0m \u001b[32m━━━━━━━━━━━━━━━━━━━━\u001b[0m\u001b[37m\u001b[0m \u001b[1m6s\u001b[0m 2s/step - accuracy: 0.2327 - loss: 1.9180 - val_accuracy: 0.1818 - val_loss: 1.8935\n",
      "Epoch 6/10\n",
      "\u001b[1m3/3\u001b[0m \u001b[32m━━━━━━━━━━━━━━━━━━━━\u001b[0m\u001b[37m\u001b[0m \u001b[1m6s\u001b[0m 2s/step - accuracy: 0.1861 - loss: 1.7898 - val_accuracy: 0.0909 - val_loss: 1.8392\n",
      "Epoch 7/10\n",
      "\u001b[1m3/3\u001b[0m \u001b[32m━━━━━━━━━━━━━━━━━━━━\u001b[0m\u001b[37m\u001b[0m \u001b[1m6s\u001b[0m 2s/step - accuracy: 0.3876 - loss: 1.7642 - val_accuracy: 0.0909 - val_loss: 1.8234\n",
      "Epoch 8/10\n",
      "\u001b[1m3/3\u001b[0m \u001b[32m━━━━━━━━━━━━━━━━━━━━\u001b[0m\u001b[37m\u001b[0m \u001b[1m6s\u001b[0m 2s/step - accuracy: 0.2249 - loss: 1.6957 - val_accuracy: 0.4545 - val_loss: 1.7073\n",
      "Epoch 9/10\n",
      "\u001b[1m3/3\u001b[0m \u001b[32m━━━━━━━━━━━━━━━━━━━━\u001b[0m\u001b[37m\u001b[0m \u001b[1m11s\u001b[0m 1s/step - accuracy: 0.4810 - loss: 1.5191 - val_accuracy: 0.4545 - val_loss: 1.6431\n",
      "Epoch 10/10\n",
      "\u001b[1m3/3\u001b[0m \u001b[32m━━━━━━━━━━━━━━━━━━━━\u001b[0m\u001b[37m\u001b[0m \u001b[1m10s\u001b[0m 1s/step - accuracy: 0.5505 - loss: 1.3460 - val_accuracy: 0.2727 - val_loss: 1.6216\n",
      "\u001b[1m1/1\u001b[0m \u001b[32m━━━━━━━━━━━━━━━━━━━━\u001b[0m\u001b[37m\u001b[0m \u001b[1m0s\u001b[0m 276ms/step - accuracy: 0.2727 - loss: 1.6216\n",
      "Fold 6 - Loss: 1.6216357946395874, Accuracy: 0.27272728085517883\n",
      "Training Fold 7/7\n",
      "Epoch 1/10\n",
      "\u001b[1m3/3\u001b[0m \u001b[32m━━━━━━━━━━━━━━━━━━━━\u001b[0m\u001b[37m\u001b[0m \u001b[1m9s\u001b[0m 2s/step - accuracy: 0.1116 - loss: 2.7027 - val_accuracy: 0.1000 - val_loss: 1.9789\n",
      "Epoch 2/10\n",
      "\u001b[1m3/3\u001b[0m \u001b[32m━━━━━━━━━━━━━━━━━━━━\u001b[0m\u001b[37m\u001b[0m \u001b[1m6s\u001b[0m 1s/step - accuracy: 0.1732 - loss: 2.0294 - val_accuracy: 0.3000 - val_loss: 1.9144\n",
      "Epoch 3/10\n",
      "\u001b[1m3/3\u001b[0m \u001b[32m━━━━━━━━━━━━━━━━━━━━\u001b[0m\u001b[37m\u001b[0m \u001b[1m10s\u001b[0m 1s/step - accuracy: 0.1844 - loss: 1.9209 - val_accuracy: 0.3000 - val_loss: 1.8643\n",
      "Epoch 4/10\n",
      "\u001b[1m3/3\u001b[0m \u001b[32m━━━━━━━━━━━━━━━━━━━━\u001b[0m\u001b[37m\u001b[0m \u001b[1m11s\u001b[0m 1s/step - accuracy: 0.2338 - loss: 1.8789 - val_accuracy: 0.5000 - val_loss: 1.8075\n",
      "Epoch 5/10\n",
      "\u001b[1m3/3\u001b[0m \u001b[32m━━━━━━━━━━━━━━━━━━━━\u001b[0m\u001b[37m\u001b[0m \u001b[1m5s\u001b[0m 1s/step - accuracy: 0.2807 - loss: 1.8632 - val_accuracy: 0.4000 - val_loss: 1.7186\n",
      "Epoch 6/10\n",
      "\u001b[1m3/3\u001b[0m \u001b[32m━━━━━━━━━━━━━━━━━━━━\u001b[0m\u001b[37m\u001b[0m \u001b[1m6s\u001b[0m 2s/step - accuracy: 0.3046 - loss: 1.6540 - val_accuracy: 0.5000 - val_loss: 1.7306\n",
      "Epoch 7/10\n",
      "\u001b[1m3/3\u001b[0m \u001b[32m━━━━━━━━━━━━━━━━━━━━\u001b[0m\u001b[37m\u001b[0m \u001b[1m10s\u001b[0m 1s/step - accuracy: 0.7382 - loss: 1.5561 - val_accuracy: 0.2000 - val_loss: 1.8744\n",
      "Epoch 8/10\n",
      "\u001b[1m3/3\u001b[0m \u001b[32m━━━━━━━━━━━━━━━━━━━━\u001b[0m\u001b[37m\u001b[0m \u001b[1m6s\u001b[0m 2s/step - accuracy: 0.3838 - loss: 1.4759 - val_accuracy: 0.6000 - val_loss: 1.3899\n",
      "Epoch 9/10\n",
      "\u001b[1m3/3\u001b[0m \u001b[32m━━━━━━━━━━━━━━━━━━━━\u001b[0m\u001b[37m\u001b[0m \u001b[1m10s\u001b[0m 1s/step - accuracy: 0.6773 - loss: 1.0787 - val_accuracy: 0.7000 - val_loss: 1.3774\n",
      "Epoch 10/10\n",
      "\u001b[1m3/3\u001b[0m \u001b[32m━━━━━━━━━━━━━━━━━━━━\u001b[0m\u001b[37m\u001b[0m \u001b[1m5s\u001b[0m 1s/step - accuracy: 0.7733 - loss: 0.8035 - val_accuracy: 0.5000 - val_loss: 1.2884\n",
      "\u001b[1m1/1\u001b[0m \u001b[32m━━━━━━━━━━━━━━━━━━━━\u001b[0m\u001b[37m\u001b[0m \u001b[1m0s\u001b[0m 225ms/step - accuracy: 0.5000 - loss: 1.2884\n",
      "Fold 7 - Loss: 1.2883917093276978, Accuracy: 0.5\n"
     ]
    }
   ],
   "source": [
    "# Load images and preprocess them (resize and normalize)\n",
    "def preprocess_images(paths):\n",
    "    imageSet = []\n",
    "    for path in paths:\n",
    "        img = cv2.imread(path)  # Load the image\n",
    "\n",
    "        if img is None:\n",
    "            print(f\"Error loading image: {path}\")\n",
    "            continue\n",
    "\n",
    "        img_cropped = detect_and_crop_faces(img)  # Detect and crop faces\n",
    "        img_resized = resize_images(img_cropped)  # Resize the image\n",
    "        img_normalized = img_resized / 255.0  # Normalize pixel values to [0, 1]\n",
    "\n",
    "        imageSet.append(img_normalized)\n",
    "    return np.array(imageSet, dtype=np.float32)\n",
    "\n",
    "\n",
    "for fold, (train_idx, val_idx) in enumerate(folds):\n",
    "    print(f\"Training Fold {fold + 1}/{len(folds)}\")\n",
    "\n",
    "    # Ensure these are numpy arrays\n",
    "    images = np.array(images)\n",
    "    classNames = np.array(classNames)\n",
    "    \n",
    "    # Split the data into training and validation sets\n",
    "    train_images = images[train_idx]\n",
    "    train_classNames = classNames[train_idx]\n",
    "    val_images = images[val_idx]\n",
    "    val_classNames = classNames[val_idx]\n",
    "\n",
    "    # Preprocess the images\n",
    "    X_train = preprocess_images(train_images)\n",
    "    X_val = preprocess_images(val_images)\n",
    "    \n",
    "    # Convert class names to integers\n",
    "    unique_classes = list(set(classNames))  # All unique class names\n",
    "    class_mapping = {class_name: idx for idx, class_name in enumerate(unique_classes)}\n",
    "\n",
    "    y_train = np.array([class_mapping[label] for label in train_classNames], dtype=np.int32)\n",
    "    y_val = np.array([class_mapping[label] for label in val_classNames], dtype=np.int32)\n",
    "\n",
    "    # Train the model\n",
    "    model = create_model()\n",
    "    history = model.fit(X_train, y_train, epochs=10, batch_size=32, validation_data=(X_val, y_val))\n",
    "\n",
    "    # Evaluate the model\n",
    "    val_loss, val_accuracy = model.evaluate(X_val, y_val)\n",
    "    print(f\"Fold {fold + 1} - Loss: {val_loss}, Accuracy: {val_accuracy}\")"
   ]
  },
  {
   "cell_type": "markdown",
   "id": "aae51029-3469-4dc1-b277-51b9a50442ed",
   "metadata": {},
   "source": [
    "- Calculating Precision, recall and F1 score"
   ]
  },
  {
   "cell_type": "code",
   "execution_count": 23,
   "id": "3f2bb22a-1529-4c5f-ac69-bfec6f0aff2e",
   "metadata": {
    "jupyter": {
     "source_hidden": true
    }
   },
   "outputs": [
    {
     "name": "stdout",
     "output_type": "stream",
     "text": [
      "\u001b[1m1/1\u001b[0m \u001b[32m━━━━━━━━━━━━━━━━━━━━\u001b[0m\u001b[37m\u001b[0m \u001b[1m0s\u001b[0m 186ms/step\n",
      "Precision: 0.63, Recall: 0.50, F1 Score: 0.45\n"
     ]
    }
   ],
   "source": [
    "from sklearn.metrics import precision_score, recall_score, f1_score\n",
    "\n",
    "# After model evaluation\n",
    "y_pred = model.predict(X_val).argmax(axis=1)  # Assuming one-hot encoded outputs\n",
    "# zero_division=1 means that for labels with no predicted samples, the precision and recall are set to 1.0\n",
    "precision = precision_score(y_val, y_pred, average='weighted', zero_division=1)\n",
    "recall = recall_score(y_val, y_pred, average='weighted', zero_division=1)\n",
    "f1 = f1_score(y_val, y_pred, average='weighted', zero_division=1)\n",
    "\n",
    "print(f\"Precision: {precision:.2f}, Recall: {recall:.2f}, F1 Score: {f1:.2f}\")"
   ]
  },
  {
   "cell_type": "markdown",
   "id": "529bcfeb-29d8-4a63-a482-2a4da26d92ef",
   "metadata": {},
   "source": [
    "- Plotting Loss and Accuracy Curves"
   ]
  },
  {
   "cell_type": "code",
   "execution_count": 24,
   "id": "883e9591-b4d8-4546-bb21-9b81b7952479",
   "metadata": {},
   "outputs": [
    {
     "data": {
      "image/png": "[encoded data removed]",
      "text/plain": [
       "<Figure size 1200x600 with 1 Axes>"
      ]
     },
     "metadata": {},
     "output_type": "display_data"
    },
    {
     "data": {
      "image/png": "[encoded data removed]",
      "text/plain": [
       "<Figure size 1200x600 with 1 Axes>"
      ]
     },
     "metadata": {},
     "output_type": "display_data"
    }
   ],
   "source": [
    "import matplotlib.pyplot as plt\n",
    "\n",
    "# Extract loss and accuracy values\n",
    "train_loss = history.history['loss']\n",
    "val_loss = history.history['val_loss']\n",
    "train_accuracy = history.history['accuracy']\n",
    "val_accuracy = history.history['val_accuracy']\n",
    "\n",
    "# Plot Loss\n",
    "plt.figure(figsize=(12, 6))\n",
    "plt.plot(train_loss, label='Training Loss', color='blue')\n",
    "plt.plot(val_loss, label='Validation Loss', color='orange')\n",
    "plt.title('Loss Over Epochs')\n",
    "plt.xlabel('Epochs')\n",
    "plt.ylabel('Loss')\n",
    "plt.legend()\n",
    "plt.grid(True)\n",
    "plt.show()\n",
    "\n",
    "# Plot Accuracy\n",
    "plt.figure(figsize=(12, 6))\n",
    "plt.plot(train_accuracy, label='Training Accuracy', color='blue')\n",
    "plt.plot(val_accuracy, label='Validation Accuracy', color='orange')\n",
    "plt.title('Accuracy Over Epochs')\n",
    "plt.xlabel('Epochs')\n",
    "plt.ylabel('Accuracy')\n",
    "plt.legend()\n",
    "plt.grid(True)\n",
    "plt.show()"
   ]
  },
  {
   "cell_type": "code",
   "execution_count": 25,
   "id": "be83ce2b-9121-40b7-ad9c-c663f752ed6d",
   "metadata": {},
   "outputs": [
    {
     "name": "stdout",
     "output_type": "stream",
     "text": [
      "train_loss: [2.9731853008270264, 2.017909288406372, 1.9227211475372314, 1.8653703927993774, 1.8724653720855713, 1.674656629562378, 1.5202809572219849, 1.4050172567367554, 1.0909851789474487, 0.8226154446601868]\n",
      "val_loss: [1.9789249897003174, 1.9143683910369873, 1.8642642498016357, 1.8075164556503296, 1.7186214923858643, 1.7306429147720337, 1.874402403831482, 1.3898605108261108, 1.3774433135986328, 1.2883917093276978]\n",
      "train_accuracy: [0.10606060922145844, 0.1666666716337204, 0.19696970283985138, 0.28787878155708313, 0.28787878155708313, 0.25757575035095215, 0.7575757503509521, 0.43939393758773804, 0.6515151262283325, 0.7575757503509521]\n",
      "val_accuracy: [0.10000000149011612, 0.30000001192092896, 0.30000001192092896, 0.5, 0.4000000059604645, 0.5, 0.20000000298023224, 0.6000000238418579, 0.699999988079071, 0.5]\n"
     ]
    }
   ],
   "source": [
    "print(\"train_loss:\", train_loss)\n",
    "print(\"val_loss:\", val_loss)\n",
    "print(\"train_accuracy:\", train_accuracy)\n",
    "print(\"val_accuracy:\", val_accuracy)"
   ]
  },
  {
   "cell_type": "code",
   "execution_count": 31,
   "id": "ceb90b35-17d2-440e-8e07-c850c6b3b09c",
   "metadata": {},
   "outputs": [
    {
     "name": "stdout",
     "output_type": "stream",
     "text": [
      "---------------------------\n",
      "Estimated Overall Performance:\n",
      "\n",
      "Overall Accuracy: 0.41\n",
      "Overall Loss: 1.69\n",
      "\n",
      "---------------------------\n"
     ]
    }
   ],
   "source": [
    "import numpy as np\n",
    "\n",
    "# Compute overall metrics\n",
    "overall_accuracy = np.mean(val_accuracy)\n",
    "overall_loss = np.mean(val_loss)\n",
    "print(\"---------------------------\")\n",
    "print(\"Estimated Overall Performance:\\n\")\n",
    "print(f\"Overall Accuracy: {overall_accuracy:.2f}\")\n",
    "print(f\"Overall Loss: {overall_loss:.2f}\\n\")\n",
    "\n",
    "print(\"---------------------------\")"
   ]
  },
  {
   "cell_type": "markdown",
   "id": "dcbc5ce4-b5c0-4cfb-82c9-67a9e559c5c2",
   "metadata": {},
   "source": [
    "- Image Encoding into 128 dimensional vector"
   ]
  },
  {
   "cell_type": "code",
   "execution_count": 9,
   "id": "80f03c4b-22e1-4275-9061-b8a53dea32d9",
   "metadata": {},
   "outputs": [
    {
     "name": "stdout",
     "output_type": "stream",
     "text": [
      "encoding start\n",
      "encoded image: 1\n",
      "encoded image: 2\n",
      "encoded image: 3\n",
      "encoded image: 4\n",
      "encoded image: 5\n",
      "encoded image: 6\n",
      "encoded image: 7\n",
      "encoded image: 8\n",
      "encoded image: 9\n",
      "encoded image: 10\n",
      "encoded image: 11\n",
      "encoded image: 12\n",
      "encoded image: 13\n",
      "encoded image: 14\n",
      "encoded image: 15\n",
      "encoded image: 16\n",
      "encoded image: 17\n",
      "encoded image: 18\n",
      "encoded image: 19\n",
      "encoded image: 20\n",
      "encoded image: 21\n",
      "encoded image: 22\n",
      "encoded image: 23\n",
      "encoded image: 24\n",
      "encoded image: 25\n",
      "encoded image: 26\n",
      "encoded image: 27\n",
      "encoded image: 28\n",
      "encoded image: 29\n",
      "encoded image: 30\n",
      "encoded image: 31\n",
      "encoded image: 32\n",
      "encoded image: 33\n",
      "encoded image: 34\n",
      "encoded image: 35\n",
      "encoded image: 36\n",
      "encoded image: 37\n",
      "encoded image: 38\n",
      "encoded image: 39\n",
      "encoded image: 40\n",
      "encoded image: 41\n",
      "encoded image: 42\n",
      "encoded image: 43\n",
      "encoded image: 44\n",
      "encoded image: 45\n",
      "encoded image: 46\n",
      "encoded image: 47\n",
      "encoded image: 48\n",
      "encoded image: 49\n",
      "encoded image: 50\n",
      "encoded image: 51\n",
      "encoded image: 52\n",
      "encoded image: 53\n",
      "encoded image: 54\n",
      "encoded image: 55\n",
      "encoded image: 56\n",
      "encoded image: 57\n",
      "encoded image: 58\n",
      "encoded image: 59\n",
      "encoded image: 60\n",
      "encoded image: 61\n",
      "encoded image: 62\n",
      "encoded image: 63\n",
      "encoded image: 64\n",
      "encoded image: 65\n",
      "encoded image: 66\n",
      "encoded image: 67\n",
      "encoded image: 68\n",
      "encoded image: 69\n",
      "encoded image: 70\n",
      "encoded image: 71\n",
      "encoded image: 72\n",
      "encoded image: 73\n",
      "encoded image: 74\n",
      "encoded image: 75\n",
      "encoded image: 76\n",
      "Encoding complete. 76 face(s) encoded successfully.\n"
     ]
    }
   ],
   "source": [
    "import face_recognition\n",
    "\n",
    "# Function for encoding faces\n",
    "print(\"encoding start\")\n",
    "counter = 0\n",
    "def findEncodings(images):\n",
    "    global counter\n",
    "    encodeList = []\n",
    "    for img_path in images:\n",
    "        img = cv2.imread(img_path)\n",
    "        if img is None:\n",
    "            print(f\"Error loading image: {img_path}\")\n",
    "            continue\n",
    "        img = cv2.cvtColor(img, cv2.COLOR_BGR2RGB)\n",
    "        encodes = face_recognition.face_encodings(img)\n",
    "        if encodes:\n",
    "            encodeList.append(encodes[0]) # Use the first encoding if present\n",
    "            counter+=1      \n",
    "            print(f'encoded image: {counter}')\n",
    "        else:\n",
    "            print(f\"No face found in image: {img_path}\")\n",
    "    \n",
    "    # Validation message after processing all images\n",
    "    if encodeList:\n",
    "        print(f\"Encoding complete. {len(encodeList)} face(s) encoded successfully.\")\n",
    "    else:\n",
    "        print(\"Encoding complete. No faces were found in the provided images.\")\n",
    "    \n",
    "    return encodeList\n",
    "\n",
    "encodeListKnown = findEncodings(images)"
   ]
  },
  {
   "cell_type": "markdown",
   "id": "275d3716-c682-4d51-916c-b685cf142279",
   "metadata": {},
   "source": [
    "- Forming the pickle file"
   ]
  },
  {
   "cell_type": "code",
   "execution_count": 2,
   "id": "befe60cc-c474-4557-a0ab-e9acb2a46af6",
   "metadata": {},
   "outputs": [
    {
     "name": "stdout",
     "output_type": "stream",
     "text": [
      "Encodings loaded from file.\n"
     ]
    }
   ],
   "source": [
    "import os\n",
    "import pickle\n",
    "\n",
    "# Save or load encodings\n",
    "if not os.path.exists(\"encodings.pkl\"):\n",
    "    with open(\"encodings.pkl\", \"wb\") as f:\n",
    "        pickle.dump((encodeListKnown, classNames), f)\n",
    "    print(\"Encodings computed and saved to file.\")\n",
    "else:\n",
    "    with open(\"encodings.pkl\", \"rb\") as f:\n",
    "        encodeListKnown, classNames = pickle.load(f)\n",
    "    print(\"Encodings loaded from file.\")"
   ]
  },
  {
   "cell_type": "markdown",
   "id": "2693cc0d-8e2d-406a-af87-b13a1cfd7328",
   "metadata": {},
   "source": [
    "- Model Summary"
   ]
  },
  {
   "cell_type": "code",
   "execution_count": 32,
   "id": "631fbb98-80d7-47d8-9786-7aedf79f58c7",
   "metadata": {},
   "outputs": [
    {
     "name": "stdout",
     "output_type": "stream",
     "text": [
      "Model Summary:\n",
      "--------------------\n",
      "Number of faces encoded: 76\n",
      "Encoding vector dimension: 128\n",
      "Number of unique classes: 7\n",
      "All class names: ['Bhavyasri', 'Anand', 'Gaurav', 'Heriv', 'Karan', 'Mythili', 'Harsh']\n",
      "\n",
      "Class Distribution:\n",
      " - Bhavyasri: 15 instances\n",
      " - Anand: 13 instances\n",
      " - Gaurav: 16 instances\n",
      " - Heriv: 10 instances\n",
      " - Karan: 7 instances\n",
      " - Mythili: 7 instances\n",
      " - Harsh: 8 instances\n",
      "--------------------\n"
     ]
    }
   ],
   "source": [
    "import numpy as np\n",
    "\n",
    "# className = makeClasses()\n",
    "unique_ClassNames = set(classNames)  # Set of unique class names\n",
    "\n",
    "def model_summary(encodeListKnown, unique_ClassNames):\n",
    "    print(\"Model Summary:\")\n",
    "    print(\"--------------------\")\n",
    "    \n",
    "    # Basic Details\n",
    "    num_faces_encoded = len(encodeListKnown)\n",
    "    encoding_dim = len(encodeListKnown[0]) if encodeListKnown else 'N/A'\n",
    "    \n",
    "    # Display Basic Information\n",
    "    print(f\"Number of faces encoded: {num_faces_encoded}\")\n",
    "    print(f\"Encoding vector dimension: {encoding_dim}\")\n",
    "    print(f\"Number of unique classes: {len(unique_ClassNames)}\")\n",
    "    \n",
    "    # Class Information\n",
    "    print(\"All class names:\", list(unique_ClassNames))  # Print all unique class names\n",
    "    \n",
    "    # Distribution of Classes\n",
    "    # class_counts = {class_name: classNames.count(class_name) for class_name in unique_ClassNames}\n",
    "    class_counts = {class_name: np.count_nonzero(classNames == class_name) for class_name in unique_ClassNames}\n",
    "    print(\"\\nClass Distribution:\")\n",
    "    for class_name, count in class_counts.items():\n",
    "        print(f\" - {class_name}: {count} instances\")\n",
    "    \n",
    "    print(\"--------------------\")\n",
    "\n",
    "# Call the function with your data\n",
    "model_summary(encodeListKnown, unique_ClassNames)"
   ]
  },
  {
   "cell_type": "markdown",
   "id": "c190e07a-7aee-40c3-bb8a-33395dcfb372",
   "metadata": {},
   "source": [
    "- Attendance function "
   ]
  },
  {
   "cell_type": "code",
   "execution_count": 33,
   "id": "2d054020-83ad-4831-921d-235696f6469b",
   "metadata": {},
   "outputs": [
    {
     "name": "stdout",
     "output_type": "stream",
     "text": [
      "Attendance marking function start\n",
      "Function end\n"
     ]
    }
   ],
   "source": [
    "from datetime import datetime\n",
    "import os\n",
    "\n",
    "print(\"Attendance marking function start\")\n",
    "\n",
    "# Generate a unique filename using the current date and time\n",
    "now = datetime.now()\n",
    "date_str = now.strftime('%Y-%m-%d_%H-%M-%S')\n",
    "attendance_file = f'Attendance_{date_str}.csv'\n",
    "\n",
    "def markAttendance(name):\n",
    "    # Check if the attendance file exists, create it with a header if not\n",
    "    if not os.path.isfile(attendance_file):\n",
    "        with open(attendance_file, 'w') as f:\n",
    "            f.write('Name,Time\\n')  # Create the header\n",
    "\n",
    "    with open(attendance_file, 'a+') as f:\n",
    "        f.seek(0)  # Move to the beginning of the file to read\n",
    "        myDateList = f.readlines()\n",
    "        nameList = [line.split(',')[0] for line in myDateList[1:]]  # Skip header to get names only\n",
    "        if name not in nameList:\n",
    "            now = datetime.now()\n",
    "            dtString = now.strftime('%H:%M:%S')\n",
    "            f.write(f'{name},{dtString}\\n')  # Append attendance\n",
    "\n",
    "print(\"Function end\")"
   ]
  },
  {
   "cell_type": "markdown",
   "id": "af16523f-4274-447c-ac36-1ff77ffc44ee",
   "metadata": {},
   "source": [
    "- Face capturing function"
   ]
  },
  {
   "cell_type": "code",
   "execution_count": null,
   "id": "229d98fa-21a3-4d0d-b93f-3010410355de",
   "metadata": {},
   "outputs": [
    {
     "name": "stdout",
     "output_type": "stream",
     "text": [
      "Starting capture...\n"
     ]
    }
   ],
   "source": [
    "import cv2\n",
    "import numpy as np\n",
    "import face_recognition\n",
    "import pandas as pd\n",
    "import time\n",
    "\n",
    "print(\"Starting capture...\")\n",
    "cap = cv2.VideoCapture(0)\n",
    "Student_Set = set()\n",
    "\n",
    "# Number of iterations for averaging\n",
    "num_iterations = 20\n",
    "distance_records = []\n",
    "name_distance_list = []  # To store names and corresponding average distances\n",
    "\n",
    "unrecognized_timer = {}  # To track time for unrecognized faces\n",
    "unknown_faces = []  # To store unrecognized face entries\n",
    "\n",
    "counter = 0\n",
    "\n",
    "while True:\n",
    "    counter += 1\n",
    "    success, img = cap.read()\n",
    "    if not success:\n",
    "        print(\"Failed to capture image.\")\n",
    "        break\n",
    "    \n",
    "    imgSmall = cv2.resize(img, (0, 0), fx=0.25, fy=0.25)\n",
    "    imgSmall = cv2.cvtColor(imgSmall, cv2.COLOR_BGR2RGB)\n",
    "\n",
    "    # Detect faces and encode them\n",
    "    facesCurrFrame = face_recognition.face_locations(imgSmall)\n",
    "    encodesCurrFrame = face_recognition.face_encodings(imgSmall, facesCurrFrame)\n",
    "\n",
    "    # Process each face detected in the current frame\n",
    "    for encodeFace, faceLoc in zip(encodesCurrFrame, facesCurrFrame):\n",
    "        matches = face_recognition.compare_faces(encodeListKnown, encodeFace)\n",
    "        faceDis = face_recognition.face_distance(encodeListKnown, encodeFace)\n",
    "\n",
    "        # Count the matches for the closest known face\n",
    "        matchCount = np.sum(np.array(matches) & (faceDis < 0.45))  # Adjust threshold as needed\n",
    "\n",
    "        if matchCount >= 5:  # Require at least 5 matches for identification\n",
    "            matchIndex = np.argmin(faceDis)\n",
    "            name = classNames[matchIndex].upper()\n",
    "            Student_Set.add(name)\n",
    "            name_distance_list.append({'Name': name, 'Distance': np.mean(faceDis[matches])})\n",
    "\n",
    "            # Reset unrecognized timer for this face\n",
    "            unrecognized_timer.pop(faceLoc, None)\n",
    "\n",
    "            # Draw rectangle and name\n",
    "            y1, x2, y2, x1 = faceLoc\n",
    "            cv2.rectangle(img, (x1*4, y1*4), (x2*4, y2*4), (0, 255, 0), 2)\n",
    "            cv2.rectangle(img, (x1*4, y2*4 - 35), (x2*4, y2*4), (0, 255, 0), cv2.FILLED)\n",
    "            cv2.putText(img, name, (x1*4 + 6, y2*4 - 6), cv2.FONT_HERSHEY_COMPLEX, 1, (255, 255, 255), 2)\n",
    "            markAttendance(name)\n",
    "        else:\n",
    "            # Handle unrecognized faces\n",
    "            if faceLoc not in unrecognized_timer:\n",
    "                unrecognized_timer[faceLoc] = time.time()  # Start timer for this face\n",
    "            else:\n",
    "                elapsed_time = time.time() - unrecognized_timer[faceLoc]\n",
    "                if elapsed_time > 5:  # If the face remains unrecognized for 10 seconds\n",
    "                    name = \"Unknown Face\"\n",
    "                    unknown_faces.append({'Time': time.strftime('%Y-%m-%d %H:%M:%S'), 'Status': name})\n",
    "\n",
    "                    # Draw rectangle and label \"Unknown Face\"\n",
    "                    y1, x2, y2, x1 = faceLoc\n",
    "                    cv2.rectangle(img, (x1*4, y1*4), (x2*4, y2*4), (0, 0, 255), 2)\n",
    "                    cv2.rectangle(img, (x1*4, y2*4 - 35), (x2*4, y2*4), (0, 0, 255), cv2.FILLED)\n",
    "                    cv2.putText(img, name, (x1*4 + 6, y2*4 - 6), cv2.FONT_HERSHEY_COMPLEX, 1, (255, 255, 255), 2)\n",
    "                    # Remove the timer entry for this face\n",
    "                    unrecognized_timer.pop(faceLoc, None)\n",
    "\n",
    "    # Show the captured image with any recognized or unrecognized face\n",
    "    cv2.imshow('Webcam', img)\n",
    "    \n",
    "    # Exit the loop if 'q' is pressed\n",
    "    if cv2.waitKey(1) & 0xFF == ord('q'):\n",
    "        break\n",
    "\n",
    "# Display final set of recognized names\n",
    "print(\"\\nFinal Recognized Set:\")\n",
    "print(Student_Set)\n",
    "\n",
    "# Display the tabulated output of names and distances\n",
    "if name_distance_list:\n",
    "    df = pd.DataFrame(name_distance_list)\n",
    "    print(\"\\nRecognition Details (Name and Average Distance):\")\n",
    "    print(df.groupby('Name').min().reset_index())  # Show unique names with minimum distance recorded\n",
    "\n",
    "# Log unknown faces to an Excel sheet\n",
    "# if unknown_faces:\n",
    "#     df_unknown = pd.DataFrame(unknown_faces)\n",
    "#     df_unknown.to_excel('Unknown_Faces.xlsx', index=False)\n",
    "#     print(\"\\nUnknown faces logged to 'Unknown_Faces.xlsx'.\")\n",
    "\n",
    "# Release the capture and destroy all OpenCV windows\n",
    "cap.release()\n",
    "cv2.destroyAllWindows()"
   ]
  },
  {
   "cell_type": "code",
   "execution_count": null,
   "id": "ef797059-594c-4378-ab6c-a98091c27a62",
   "metadata": {},
   "outputs": [],
   "source": []
  }
 ],
 "metadata": {
  "kernelspec": {
   "display_name": "Python 3 (ipykernel)",
   "language": "python",
   "name": "python3"
  },
  "language_info": {
   "codemirror_mode": {
    "name": "ipython",
    "version": 3
   },
   "file_extension": ".py",
   "mimetype": "text/x-python",
   "name": "python",
   "nbconvert_exporter": "python",
   "pygments_lexer": "ipython3",
   "version": "3.12.7"
  }
 },
 "nbformat": 4,
 "nbformat_minor": 5
}
